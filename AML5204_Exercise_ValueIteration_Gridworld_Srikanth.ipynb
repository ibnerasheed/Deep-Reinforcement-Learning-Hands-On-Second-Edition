{
  "cells": [
    {
      "cell_type": "markdown",
      "metadata": {
        "id": "view-in-github",
        "colab_type": "text"
      },
      "source": [
        "<a href=\"https://colab.research.google.com/github/ibnerasheed/Deep-Reinforcement-Learning-Hands-On-Second-Edition/blob/master/AML5204_Exercise_ValueIteration_Gridworld_Srikanth.ipynb\" target=\"_parent\"><img src=\"https://colab.research.google.com/assets/colab-badge.svg\" alt=\"Open In Colab\"/></a>"
      ]
    },
    {
      "cell_type": "code",
      "execution_count": 1,
      "metadata": {
        "id": "6hiUQx3UBARS"
      },
      "outputs": [],
      "source": [
        "import pandas as pd\n",
        "import itertools\n",
        "import numpy as np"
      ]
    },
    {
      "cell_type": "markdown",
      "metadata": {
        "id": "tOwgT2O_LY05"
      },
      "source": [
        "# 5 sections of Value Iteration Assignment\n",
        "1. Common functions reusable across 4x4 and 5x5\n",
        "2. 4x4 specific gridworld definition, P_t and reward functions\n",
        "3. 4x4 specific optimal policy calc  \n",
        "4. 5x5 specific gridworld definition, P_t and reward functions\n",
        "5. 5x5 specific optimal policy calc  "
      ]
    },
    {
      "cell_type": "markdown",
      "metadata": {
        "id": "72919YR1FL71"
      },
      "source": [
        "# Common reusable functions\n",
        "1. action to unicode coversion\n",
        "2. value iteration"
      ]
    },
    {
      "cell_type": "code",
      "execution_count": null,
      "metadata": {
        "id": "h1QhiuxSFOQl"
      },
      "outputs": [],
      "source": [
        "## Map actions to unicode characters representing arrows\n",
        "def action_to_unicode(action_dict):\n",
        "  d = {(-1, 0):'\\u2191', (0, 1):'\\u2192', (1, 0):'\\u2193', (0, -1):'\\u2190'}\n",
        "  for key, val in action_dict.items():\n",
        "    action_dict[key] = ''.join([d.get(item) for item in val])\n",
        "  return action_dict"
      ]
    },
    {
      "cell_type": "code",
      "execution_count": null,
      "metadata": {
        "id": "NEWvS8lFFOCo"
      },
      "outputs": [],
      "source": [
        "# Input arguments to this function are functions themselves - either 4x4 or 5x5 grid specific functions are passed.\n",
        "# this will work as long as these function arguments have the same input and output signature (to the reusable extent)\n",
        "def value_iteration(gridworld_func, P_t_func, reward_func):\n",
        "  M, N, S, A, nstates, gamma, _, _ = gridworld_func()\n",
        "\n",
        "  # Initialize optimal policy for all states\n",
        "  pi_optimal = dict.fromkeys(S, [])\n",
        "  # Randomly initialize state value function\n",
        "  v_old = np.zeros(nstates)\n",
        "  tol = 1e-05 # stopping tolerance\n",
        "  normdiff = np.inf\n",
        "\n",
        "  maxiter = 1000\n",
        "  iter = 1\n",
        "\n",
        "  while normdiff > tol and iter <= maxiter:\n",
        "    v_new = np.ones(nstates)*(-np.inf)\n",
        "    for i in range(len(S)):\n",
        "      for a in range(len(A)):      \n",
        "        innersum = 0\n",
        "        for j in range(len(S)):\n",
        "          innersum += P_t_func(S[i],A[a], S[j]) * (reward_func(S[i],A[a], S[j]) + gamma*v_old[j])         \n",
        "        if v_new[i] < innersum:\n",
        "          v_new[i] = innersum\n",
        "          pi_optimal[S[i]] = [] # clear list of actions \n",
        "          pi_optimal[S[i]].append(A[a])\n",
        "        elif innersum == v_new[i]: \n",
        "          pi_optimal[S[i]].append(A[a])\n",
        "    iter = iter+1 \n",
        "    normdiff = np.linalg.norm(v_new - v_old)\n",
        "    v_old = np.copy(v_new)\n",
        "\n",
        "  return v_new, pi_optimal"
      ]
    },
    {
      "cell_type": "markdown",
      "metadata": {
        "id": "U8t4PzAaFYCC"
      },
      "source": [
        "# Gridworld 4x4 \n",
        "\n",
        "## Gridworld 4x4 specific functions\n",
        "1. grid definition function\n",
        "2. P_t function\n",
        "3. reward function"
      ]
    },
    {
      "cell_type": "code",
      "execution_count": null,
      "metadata": {
        "id": "Yp9g7QRkGg6K"
      },
      "outputs": [],
      "source": [
        "## Define the 4 x 4 gridworld\n",
        "def gridworld_4x4():\n",
        "  M = 4 # no of rows starting from the top left corner \n",
        "  N = 4\n",
        "  # State space\n",
        "  S = list(itertools.product(range(M), range(N)))\n",
        "  # Action space\n",
        "  A = [(-1,0), (0,1), (1,0),(0,-1)] # N, E, S, W\n",
        "  nstates = len(S)\n",
        "  gamma = 1.0\n",
        "  # Terminal states\n",
        "  terminal_states = [(0,0), (3,3)]\n",
        "\n",
        "  #Last None is to match the return signature of 5x5 gridworld config function\n",
        "  return M, N, S, A, nstates, gamma, terminal_states, None"
      ]
    },
    {
      "cell_type": "code",
      "execution_count": null,
      "metadata": {
        "id": "tl5Jf5zlJY8K"
      },
      "outputs": [],
      "source": [
        "## Function to return the transition probability\n",
        "def P_t_4x4(start_state, action, end_state):\n",
        "  M, N, S, A, nstates, gamma, terminal_states, _ = gridworld_4x4()\n",
        "\n",
        "  # If start state is a terminal state\n",
        "  if start_state in terminal_states:\n",
        "    return 0\n",
        "\n",
        "  # Otherwise calculate the new proposed state\n",
        "  # according to the action\n",
        "  proposed_state = tuple(np.array(start_state) + np.array(action))\n",
        "  \n",
        "  # If the proposed state is outside the grid (illegal action)\n",
        "  if any(val in proposed_state for val in [M, N, -1]):\n",
        "    if start_state == end_state:\n",
        "      return 1\n",
        "    else:\n",
        "      return 0\n",
        "\n",
        "  # Otherwise, if action is legal\n",
        "  # Check if proposed state and end state are the same  \n",
        "  if proposed_state == end_state:\n",
        "    return 1\n",
        "  else:\n",
        "    return 0"
      ]
    },
    {
      "cell_type": "code",
      "execution_count": null,
      "metadata": {
        "id": "wBDXJIFRPfvz"
      },
      "outputs": [],
      "source": [
        "## Function to return reward\n",
        "def reward_4x4(start_state, action, end_state):\n",
        "  M, N, S, A, nstates, gamma, terminal_states, _ = gridworld_4x4()\n",
        "  \n",
        "  if start_state in terminal_states:\n",
        "    return 0\n",
        "  else:\n",
        "    return -1  "
      ]
    },
    {
      "cell_type": "markdown",
      "metadata": {
        "id": "uu324W_vFi0S"
      },
      "source": [
        "## Invoke calc for 4x4 optimal Policy and v_new "
      ]
    },
    {
      "cell_type": "code",
      "execution_count": null,
      "metadata": {
        "id": "0YSg0SAgnGeT"
      },
      "outputs": [],
      "source": [
        "## Get optimal policy for 4x4 grid world\n",
        "def optimal_policy_4x4():\n",
        "  M, N, S, A, nstates, gamma, terminal_states, _ = gridworld_4x4()\n",
        "  v_new, pi_optimal = value_iteration(gridworld_4x4, P_t_4x4, reward_4x4)\n",
        "  print(v_new.reshape((M,N)))\n",
        "  print( \n",
        "      np.array(\n",
        "          list(action_to_unicode(pi_optimal).values())\n",
        "       ).reshape((M, N)) \n",
        "  )"
      ]
    },
    {
      "cell_type": "code",
      "execution_count": null,
      "metadata": {
        "colab": {
          "base_uri": "https://localhost:8080/"
        },
        "id": "bBsDyrGfoIrR",
        "outputId": "2d9b7ee4-afd4-48b1-8266-aefda9f91942"
      },
      "outputs": [
        {
          "name": "stdout",
          "output_type": "stream",
          "text": [
            "[[ 0. -1. -2. -3.]\n",
            " [-1. -2. -3. -2.]\n",
            " [-2. -3. -2. -1.]\n",
            " [-3. -2. -1.  0.]]\n",
            "[['↑→↓←' '←' '←' '↓←']\n",
            " ['↑' '↑←' '↑→↓←' '↓']\n",
            " ['↑' '↑→↓←' '→↓' '↓']\n",
            " ['↑→' '→' '→' '↑→↓←']]\n"
          ]
        }
      ],
      "source": [
        "optimal_policy_4x4()"
      ]
    },
    {
      "cell_type": "markdown",
      "metadata": {
        "id": "GtRq5uaxFG4-"
      },
      "source": [
        "# Gridworld 5x5\n",
        "\n",
        "## Gridworld 5x5 specific functions\n",
        "1. grid definition function\n",
        "2. P_t function\n",
        "3. reward function"
      ]
    },
    {
      "cell_type": "code",
      "execution_count": null,
      "metadata": {
        "id": "Oj2GK5kr0x0C"
      },
      "outputs": [],
      "source": [
        "## Define the 5 x 5 gridworld\n",
        "def gridworld_5x5():\n",
        "  M = 5 # no of rows starting from the top left corner \n",
        "  N = 5\n",
        "  # State space\n",
        "  S = list(itertools.product(range(M), range(N)))\n",
        "  # Action space\n",
        "  A = [(-1,0), (0,1), (1,0),(0,-1)] # N, E, S, W\n",
        "  nstates = len(S)\n",
        "  gamma = 0.9\n",
        "  # Special states A, B and A', B' \n",
        "  special_states = {'start':[(0, 1), (0, 3)], 'end':[(4, 1), (2, 3)]}\n",
        "  special_state_rewards = {(0, 1):10, (0, 3):5}\n",
        "\n",
        "  return M, N, S, A, nstates, gamma, special_states, special_state_rewards"
      ]
    },
    {
      "cell_type": "code",
      "execution_count": null,
      "metadata": {
        "id": "vwTtPBdpGo9Y"
      },
      "outputs": [],
      "source": [
        "# Function to return the transition probability\n",
        "def P_t_5x5(start_state, action, end_state):\n",
        "  M, N, S, A, nstates, gamma, special_states, _ = gridworld_5x5()\n",
        "\n",
        "  if start_state in special_states['start']:\n",
        "    index = special_states['start'].index(start_state)\n",
        "    if end_state == special_states['end'][index]:\n",
        "      return 1\n",
        "    else:\n",
        "      return 0  \n",
        "\n",
        "  # calculate new proposed state\n",
        "  # according to the action\n",
        "  proposed_state = tuple(np.array(start_state) + np.array(action))\n",
        "  \n",
        "  # If the proposed state is outside the grid (illegal action)\n",
        "  if (proposed_state not in S):\n",
        "    if start_state == end_state:\n",
        "      return 1\n",
        "    else:\n",
        "      return 0\n",
        "\n",
        "  # Otherwise, if action is legal\n",
        "  # Check if proposed state and end state are the same  \n",
        "  if proposed_state == end_state:\n",
        "    return 1\n",
        "  else:\n",
        "    return 0"
      ]
    },
    {
      "cell_type": "code",
      "execution_count": null,
      "metadata": {
        "id": "nB0WV6daIZeI"
      },
      "outputs": [],
      "source": [
        "## Function to return reward\n",
        "def reward_5x5(start_state, action, end_state):\n",
        "  M, N, S, A, nstates, gamma, special_states, special_state_rewards = gridworld_5x5()\n",
        "  \n",
        "  if start_state in special_states['start']:\n",
        "    return special_state_rewards[start_state]\n",
        "    \n",
        "  # calculate new proposed state\n",
        "  # according to the action\n",
        "  proposed_state = tuple(np.array(start_state) + np.array(action))\n",
        "  \n",
        "  # If the proposed state is outside the grid (illegal action)\n",
        "  if (proposed_state not in S):\n",
        "    return -1\n",
        "\n",
        "  # Otherwise, if action is legal\n",
        "  return 0"
      ]
    },
    {
      "cell_type": "markdown",
      "metadata": {
        "id": "EOFJ3IuKGwut"
      },
      "source": [
        "## Invoke calc for 5x5 optimal Policy and v_new"
      ]
    },
    {
      "cell_type": "code",
      "execution_count": null,
      "metadata": {
        "id": "MxgpVzUJGy4L"
      },
      "outputs": [],
      "source": [
        "## Get optimal policy for 5x5 grid world\n",
        "def optimal_policy_5x5():\n",
        "  M, N, S, A, nstates, gamma, special_states, special_state_rewards = gridworld_5x5()\n",
        "  v_new, pi_optimal = value_iteration(gridworld_5x5, P_t_5x5, reward_5x5)\n",
        "  print(v_new.reshape((M,N)))\n",
        "  print( \n",
        "      np.array(\n",
        "          list(action_to_unicode(pi_optimal).values())\n",
        "       ).reshape((M, N)) \n",
        "  )"
      ]
    },
    {
      "cell_type": "code",
      "execution_count": null,
      "metadata": {
        "colab": {
          "base_uri": "https://localhost:8080/"
        },
        "id": "gfBkAqyvJzot",
        "outputId": "f12e7dd7-d07f-44cf-bf33-081b10fc8989"
      },
      "outputs": [
        {
          "name": "stdout",
          "output_type": "stream",
          "text": [
            "[[21.97747666 24.41941851 21.97747666 19.41941851 17.47747666]\n",
            " [19.77972899 21.97747666 19.77972899 17.80175609 16.02157612]\n",
            " [17.80175609 19.77972899 17.80175609 16.02157612 14.41941851]\n",
            " [16.02157612 17.80175609 16.02157612 14.41941851 12.97747666]\n",
            " [14.41941851 16.02157612 14.41941851 12.97747666 11.67972899]]\n",
            "[['→' '↑→↓←' '←' '↑→↓←' '←']\n",
            " ['↑→' '↑' '↑←' '←' '←']\n",
            " ['↑→' '↑' '↑←' '↑←' '↑←']\n",
            " ['↑→' '↑' '↑←' '↑←' '↑←']\n",
            " ['↑→' '↑' '↑←' '↑←' '↑←']]\n"
          ]
        }
      ],
      "source": [
        "optimal_policy_5x5()"
      ]
    },
    {
      "cell_type": "code",
      "execution_count": null,
      "metadata": {
        "id": "jVE8yI2kJ4jj"
      },
      "outputs": [],
      "source": [
        ""
      ]
    }
  ],
  "metadata": {
    "colab": {
      "collapsed_sections": [],
      "name": "AML5204_Exercise_ValueIteration_Gridworld_Srikanth.ipynb",
      "provenance": [],
      "include_colab_link": true
    },
    "kernelspec": {
      "display_name": "Python 3 (ipykernel)",
      "language": "python",
      "name": "python3"
    },
    "language_info": {
      "codemirror_mode": {
        "name": "ipython",
        "version": 3
      },
      "file_extension": ".py",
      "mimetype": "text/x-python",
      "name": "python",
      "nbconvert_exporter": "python",
      "pygments_lexer": "ipython3",
      "version": "3.9.7"
    }
  },
  "nbformat": 4,
  "nbformat_minor": 0
}