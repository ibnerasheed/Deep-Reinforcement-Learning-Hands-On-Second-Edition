{
  "nbformat": 4,
  "nbformat_minor": 0,
  "metadata": {
    "colab": {
      "name": "AML5204_Exercise_ValueIteration_Python_assingment.ipynb",
      "provenance": [],
      "collapsed_sections": []
    },
    "kernelspec": {
      "name": "python3",
      "display_name": "Python 3"
    }
  },
  "cells": [
    {
      "cell_type": "code",
      "source": [
        "import pandas as pd\n",
        "import itertools\n",
        "import numpy as np"
      ],
      "metadata": {
        "id": "6hiUQx3UBARS"
      },
      "execution_count": 1,
      "outputs": []
    },
    {
      "cell_type": "code",
      "source": [
        "## Define the gridworld\n",
        "M = 4 # no of rows starting from the top left corner \n",
        "N = 4\n",
        "# State space\n",
        "S = list(itertools.product(range(M), range(N)))\n",
        "# Terminal states\n",
        "terminal_states = [(0,0), (3,3)]\n",
        "nstates = len(S)\n",
        "# Action space\n",
        "A = [(-1,0), (0,1), (1,0),(0,-1)] # N, E, S, W"
      ],
      "metadata": {
        "id": "Yp9g7QRkGg6K"
      },
      "execution_count": 2,
      "outputs": []
    },
    {
      "cell_type": "code",
      "source": [
        "## Function to return the transition probability\n",
        "def P_t(start_state, action, end_state):\n",
        "  # If start state is a terminal state\n",
        "  if start_state in terminal_states:\n",
        "    return 0\n",
        "\n",
        "  # Otherwise calculate the new proposed state\n",
        "  # according to the action\n",
        "  proposed_state = tuple(np.array(start_state) + np.array(action))\n",
        "  \n",
        "  # If the proposed state is outside the grid (illegal action)\n",
        "  if any(val in proposed_state for val in [M, N, -1]):\n",
        "    if start_state == end_state:\n",
        "      return 1\n",
        "    else:\n",
        "      return 0\n",
        "\n",
        "  # Otherwise, if action is legal\n",
        "  # Check if proposed state and end state are the same  \n",
        "  if proposed_state == end_state:\n",
        "    return 1\n",
        "  else:\n",
        "    return 0        "
      ],
      "metadata": {
        "id": "tl5Jf5zlJY8K"
      },
      "execution_count": 3,
      "outputs": []
    },
    {
      "cell_type": "code",
      "source": [
        "## Function to return reward\n",
        "def reward(start_state, action, end_state):\n",
        "  if start_state in terminal_states:\n",
        "    return 0\n",
        "  else:\n",
        "    return -1  "
      ],
      "metadata": {
        "id": "wBDXJIFRPfvz"
      },
      "execution_count": 4,
      "outputs": []
    },
    {
      "cell_type": "code",
      "source": [
        "## Creating a dictionary with:\n",
        "## - keys from a list\n",
        "## - values are empty lists\n",
        "pi_optimal = dict.fromkeys(S, [])\n",
        "print(pi_optimal)"
      ],
      "metadata": {
        "id": "Bt4qOZ5CbMvk",
        "colab": {
          "base_uri": "https://localhost:8080/"
        },
        "outputId": "5f85ad20-5851-4cc7-c887-bdd4eb4e5821"
      },
      "execution_count": 5,
      "outputs": [
        {
          "output_type": "stream",
          "name": "stdout",
          "text": [
            "{(0, 0): [], (0, 1): [], (0, 2): [], (0, 3): [], (1, 0): [], (1, 1): [], (1, 2): [], (1, 3): [], (2, 0): [], (2, 1): [], (2, 2): [], (2, 3): [], (3, 0): [], (3, 1): [], (3, 2): [], (3, 3): []}\n"
          ]
        }
      ]
    },
    {
      "cell_type": "code",
      "source": [
        "## Synchronous value iteration to find optimal policy\n",
        "\n",
        "gamma = 1.0\n",
        "# Initialize optimal policy for all states\n",
        "pi_optimal = dict.fromkeys(S, [])\n",
        "# Randomly initialize state value function\n",
        "v_old = np.zeros(nstates)\n",
        "tol = 1e-05 # stopping tolerance\n",
        "normdiff = np.inf\n",
        "\n",
        "maxiter = 1000\n",
        "iter = 1\n",
        "\n",
        "while normdiff > tol and iter <= maxiter:\n",
        "  v_new = np.ones(nstates)*(-np.inf)\n",
        "  for i in range(len(S)):\n",
        "    for a in range(len(A)):      \n",
        "      innersum = 0\n",
        "      for j in range(len(S)):\n",
        "        innersum += P_t(S[i],A[a], S[j]) * (reward(S[i],A[a], S[j]) + gamma*v_old[j])\n",
        "      if v_new[i] < innersum:\n",
        "        v_new[i] = innersum\n",
        "        pi_optimal[S[i]] = [] # clear list of actions \n",
        "        pi_optimal[S[i]].append(A[a])\n",
        "      elif innersum == v_new[i]: \n",
        "        pi_optimal[S[i]].append(A[a])            \n",
        "  iter = iter+1 \n",
        "  normdiff = np.linalg.norm(v_new - v_old)\n",
        "  v_old = np.copy(v_new)"
      ],
      "metadata": {
        "id": "87GFtTU1AObX"
      },
      "execution_count": 9,
      "outputs": []
    },
    {
      "cell_type": "code",
      "source": [
        "## Print optimal policy\n",
        "pi_optimal"
      ],
      "metadata": {
        "id": "0YSg0SAgnGeT",
        "colab": {
          "base_uri": "https://localhost:8080/"
        },
        "outputId": "bea595ad-e538-4fd1-ab51-a4282a1bfbe9"
      },
      "execution_count": 10,
      "outputs": [
        {
          "output_type": "execute_result",
          "data": {
            "text/plain": [
              "{(0, 0): [(-1, 0), (0, 1), (1, 0), (0, -1)],\n",
              " (0, 1): [(0, -1)],\n",
              " (0, 2): [(0, -1)],\n",
              " (0, 3): [(1, 0), (0, -1)],\n",
              " (1, 0): [(-1, 0)],\n",
              " (1, 1): [(-1, 0), (0, -1)],\n",
              " (1, 2): [(-1, 0), (0, 1), (1, 0), (0, -1)],\n",
              " (1, 3): [(1, 0)],\n",
              " (2, 0): [(-1, 0)],\n",
              " (2, 1): [(-1, 0), (0, 1), (1, 0), (0, -1)],\n",
              " (2, 2): [(0, 1), (1, 0)],\n",
              " (2, 3): [(1, 0)],\n",
              " (3, 0): [(-1, 0), (0, 1)],\n",
              " (3, 1): [(0, 1)],\n",
              " (3, 2): [(0, 1)],\n",
              " (3, 3): [(-1, 0), (0, 1), (1, 0), (0, -1)]}"
            ]
          },
          "metadata": {},
          "execution_count": 10
        }
      ]
    },
    {
      "cell_type": "code",
      "source": [
        "## Map actions to unicode characters representing arrows\n",
        "d = {(-1, 0):'\\u2191', (0, 1):'\\u2192', (1, 0):'\\u2193', (0, -1):'\\u2190'}\n",
        "for key, val in pi_optimal.items():\n",
        "  pi_optimal[key] = ''.join([d.get(item) for item in val])"
      ],
      "metadata": {
        "id": "bBsDyrGfoIrR"
      },
      "execution_count": 11,
      "outputs": []
    },
    {
      "cell_type": "code",
      "source": [
        "np.array(list(pi_optimal.values())).reshape((M, N))"
      ],
      "metadata": {
        "id": "k0UvkJqnrZY-",
        "colab": {
          "base_uri": "https://localhost:8080/"
        },
        "outputId": "f4273ec0-2ad7-4415-db37-ac37ba72f44b"
      },
      "execution_count": 12,
      "outputs": [
        {
          "output_type": "execute_result",
          "data": {
            "text/plain": [
              "array([['↑→↓←', '←', '←', '↓←'],\n",
              "       ['↑', '↑←', '↑→↓←', '↓'],\n",
              "       ['↑', '↑→↓←', '→↓', '↓'],\n",
              "       ['↑→', '→', '→', '↑→↓←']], dtype='<U4')"
            ]
          },
          "metadata": {},
          "execution_count": 12
        }
      ]
    },
    {
      "cell_type": "code",
      "source": [
        "v_new.reshape((M,N))"
      ],
      "metadata": {
        "id": "xbvsFndRGaw9",
        "colab": {
          "base_uri": "https://localhost:8080/"
        },
        "outputId": "b0790634-2f4e-43c1-8ab1-640f1121fee2"
      },
      "execution_count": 13,
      "outputs": [
        {
          "output_type": "execute_result",
          "data": {
            "text/plain": [
              "array([[ 0., -1., -2., -3.],\n",
              "       [-1., -2., -3., -2.],\n",
              "       [-2., -3., -2., -1.],\n",
              "       [-3., -2., -1.,  0.]])"
            ]
          },
          "metadata": {},
          "execution_count": 13
        }
      ]
    },
    {
      "cell_type": "markdown",
      "source": [
        "5 X 5 Gridworld :\n",
        "(Thanks to Sriaknt sir for suggesting function based coding)"
      ],
      "metadata": {
        "id": "3GKuA9Q94Ejr"
      }
    },
    {
      "cell_type": "code",
      "source": [
        "## Define the gridworld\n",
        "M = 5 # no of rows starting from the top left corner \n",
        "N = 5\n",
        "# State space\n",
        "S = list(itertools.product(range(M), range(N)))\n",
        "# Terminal states\n",
        "terminal_states = [(0,0), (3,3)]\n",
        "nstates = len(S)\n",
        "gamma = 0.9\n",
        "# Action space\n",
        "A = [(-1,0), (0,1), (1,0),(0,-1)] # N, E, S, W\n",
        "\n",
        "#Special States:\n",
        "\n",
        "special_states = {'start':[(0, 1), (0, 3)], 'end':[(4, 1), (2, 3)]}\n",
        "special_state_rewards = {(0, 1):10, (0, 3):5}\n"
      ],
      "metadata": {
        "id": "AX_8paxg33TG"
      },
      "execution_count": null,
      "outputs": []
    },
    {
      "cell_type": "code",
      "source": [
        "def action_to_unicode(action_dict):\n",
        "  d = {(-1, 0):'\\u2191', (0, 1):'\\u2192', (1, 0):'\\u2193', (0, -1):'\\u2190'}\n",
        "  for key, val in action_dict.items():\n",
        "    action_dict[key] = ''.join([d.get(item) for item in val])\n",
        "  return action_dict"
      ],
      "metadata": {
        "id": "MXT-0S0Z5axI"
      },
      "execution_count": 22,
      "outputs": []
    },
    {
      "cell_type": "code",
      "source": [
        "def value_iteration(gridworld_func, P_t_func, reward_func):\n",
        "  M, N, S, A, nstates, gamma, _, _ = gridworld_func()\n",
        "\n",
        "  # Initialize optimal policy for all states\n",
        "  pi_optimal = dict.fromkeys(S, [])\n",
        "  # Randomly initialize state value function\n",
        "  v_old = np.zeros(nstates)\n",
        "  tol = 1e-05 # stopping tolerance\n",
        "  normdiff = np.inf\n",
        "\n",
        "  maxiter = 1000\n",
        "  iter = 1\n",
        "\n",
        "  while normdiff > tol and iter <= maxiter:\n",
        "    v_new = np.ones(nstates)*(-np.inf)\n",
        "    for i in range(len(S)):\n",
        "      for a in range(len(A)):      \n",
        "        innersum = 0\n",
        "        for j in range(len(S)):\n",
        "          innersum += P_t_func(S[i],A[a], S[j]) * (reward_func(S[i],A[a], S[j]) + gamma*v_old[j])         \n",
        "        if v_new[i] < innersum:\n",
        "          v_new[i] = innersum\n",
        "          pi_optimal[S[i]] = [] # clear list of actions \n",
        "          pi_optimal[S[i]].append(A[a])\n",
        "        elif innersum == v_new[i]: \n",
        "          pi_optimal[S[i]].append(A[a])\n",
        "    iter = iter+1 \n",
        "    normdiff = np.linalg.norm(v_new - v_old)\n",
        "    v_old = np.copy(v_new)\n",
        "\n",
        "  return v_new, pi_optimal"
      ],
      "metadata": {
        "id": "KJ8_eriI5fQ5"
      },
      "execution_count": 23,
      "outputs": []
    },
    {
      "cell_type": "code",
      "source": [
        "#Making a function (srikant sir idea):\n",
        "\n",
        "## Define the 5 x 5 gridworld\n",
        "def gridworld_5x5():\n",
        "  M = 5 # no of rows starting from the top left corner \n",
        "  N = 5\n",
        "  # State space\n",
        "  S = list(itertools.product(range(M), range(N)))\n",
        "  # Action space\n",
        "  A = [(-1,0), (0,1), (1,0),(0,-1)] # N, E, S, W\n",
        "  nstates = len(S)\n",
        "  gamma = 0.9\n",
        "  # Special states A, B and A', B' \n",
        "  special_states = {'start':[(0, 1), (0, 3)], 'end':[(4, 1), (2, 3)]}\n",
        "  special_state_rewards = {(0, 1):10, (0, 3):5}\n",
        "\n",
        "  return M, N, S, A, nstates, gamma, special_states, special_state_rewards"
      ],
      "metadata": {
        "id": "ihdHKgNI4o76"
      },
      "execution_count": 14,
      "outputs": []
    },
    {
      "cell_type": "code",
      "source": [
        "def P_t_5x5(start_state, action, end_state):\n",
        "  M, N, S, A, nstates, gamma, special_states, _ = gridworld_5x5()\n",
        "\n",
        "  if start_state in special_states['start']:\n",
        "    index = special_states['start'].index(start_state)\n",
        "    if end_state == special_states['end'][index]:\n",
        "      return 1\n",
        "    else:\n",
        "      return 0  \n",
        "\n",
        "  # calculate new proposed state\n",
        "  # according to the action\n",
        "  proposed_state = tuple(np.array(start_state) + np.array(action))\n",
        "  \n",
        "  # If the proposed state is outside the grid (illegal action)\n",
        "  if (proposed_state not in S):\n",
        "    if start_state == end_state:\n",
        "      return 1\n",
        "    else:\n",
        "      return 0\n",
        "\n",
        "\n",
        "  if proposed_state == end_state:\n",
        "     return 1\n",
        "  else:\n",
        "     return 0"
      ],
      "metadata": {
        "id": "F3Km68Bo4dFc"
      },
      "execution_count": 18,
      "outputs": []
    },
    {
      "cell_type": "code",
      "source": [
        "## Function to return reward\n",
        "def reward_5x5(start_state, action, end_state):\n",
        "  M, N, S, A, nstates, gamma, special_states, special_state_rewards = gridworld_5x5()\n",
        "  \n",
        "  if start_state in special_states['start']:\n",
        "    return special_state_rewards[start_state]\n",
        "    \n",
        "  # calculate new proposed state\n",
        "  # according to the action\n",
        "  proposed_state = tuple(np.array(start_state) + np.array(action))\n",
        "  \n",
        "  # If the proposed state is outside the grid (illegal action)\n",
        "  if (proposed_state not in S):\n",
        "    return -1\n",
        "\n",
        "  # Otherwise, if action is legal\n",
        "  return 0"
      ],
      "metadata": {
        "id": "1tvhtCWU5IPs"
      },
      "execution_count": 19,
      "outputs": []
    },
    {
      "cell_type": "code",
      "source": [
        "def optimal_policy_5x5():\n",
        "  M, N, S, A, nstates, gamma, special_states, special_state_rewards = gridworld_5x5()\n",
        "  v_new, pi_optimal = value_iteration(gridworld_5x5, P_t_5x5, reward_5x5)\n",
        "  print(v_new.reshape((M,N)))\n",
        "  print( \n",
        "      np.array(\n",
        "          list(action_to_unicode(pi_optimal).values())\n",
        "       ).reshape((M, N)) \n",
        "  )"
      ],
      "metadata": {
        "id": "M6jOcnC95M8H"
      },
      "execution_count": 24,
      "outputs": []
    },
    {
      "cell_type": "code",
      "source": [
        "optimal_policy_5x5()"
      ],
      "metadata": {
        "colab": {
          "base_uri": "https://localhost:8080/"
        },
        "id": "bYUm2WmB5NVB",
        "outputId": "dcfc8146-d14b-4f44-e3f2-e752a36c0e3d"
      },
      "execution_count": 25,
      "outputs": [
        {
          "output_type": "stream",
          "name": "stdout",
          "text": [
            "[[21.97747666 24.41941851 21.97747666 19.41941851 17.47747666]\n",
            " [19.77972899 21.97747666 19.77972899 17.80175609 16.02157612]\n",
            " [17.80175609 19.77972899 17.80175609 16.02157612 14.41941851]\n",
            " [16.02157612 17.80175609 16.02157612 14.41941851 12.97747666]\n",
            " [14.41941851 16.02157612 14.41941851 12.97747666 11.67972899]]\n",
            "[['→' '↑→↓←' '←' '↑→↓←' '←']\n",
            " ['↑→' '↑' '↑←' '←' '←']\n",
            " ['↑→' '↑' '↑←' '↑←' '↑←']\n",
            " ['↑→' '↑' '↑←' '↑←' '↑←']\n",
            " ['↑→' '↑' '↑←' '↑←' '↑←']]\n"
          ]
        }
      ]
    },
    {
      "cell_type": "code",
      "source": [
        ""
      ],
      "metadata": {
        "id": "PdrWM-vG5PfO"
      },
      "execution_count": null,
      "outputs": []
    }
  ]
}